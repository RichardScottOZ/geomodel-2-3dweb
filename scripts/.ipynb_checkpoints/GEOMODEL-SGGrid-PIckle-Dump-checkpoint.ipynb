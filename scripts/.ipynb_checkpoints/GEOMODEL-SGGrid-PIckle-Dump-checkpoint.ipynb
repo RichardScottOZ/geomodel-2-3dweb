{
 "cells": [
  {
   "cell_type": "code",
   "execution_count": 1,
   "metadata": {},
   "outputs": [
    {
     "name": "stdout",
     "output_type": "stream",
     "text": [
      "['C:\\\\Users\\\\rscott\\\\OneDrive - OZ Minerals\\\\Exploration2022\\\\geomodel-2-3dweb\\\\scripts', 'C:\\\\Users\\\\rscott\\\\miniconda3\\\\envs\\\\pyvistabackground\\\\python38.zip', 'C:\\\\Users\\\\rscott\\\\miniconda3\\\\envs\\\\pyvistabackground\\\\DLLs', 'C:\\\\Users\\\\rscott\\\\miniconda3\\\\envs\\\\pyvistabackground\\\\lib', 'C:\\\\Users\\\\rscott\\\\miniconda3\\\\envs\\\\pyvistabackground', '', 'C:\\\\Users\\\\rscott\\\\miniconda3\\\\envs\\\\pyvistabackground\\\\lib\\\\site-packages', 'C:\\\\Users\\\\rscott\\\\miniconda3\\\\envs\\\\pyvistabackground\\\\lib\\\\site-packages\\\\win32', 'C:\\\\Users\\\\rscott\\\\miniconda3\\\\envs\\\\pyvistabackground\\\\lib\\\\site-packages\\\\win32\\\\lib', 'C:\\\\Users\\\\rscott\\\\miniconda3\\\\envs\\\\pyvistabackground\\\\lib\\\\site-packages\\\\Pythonwin', 'C:\\\\Users\\\\rscott\\\\miniconda3\\\\envs\\\\pyvistabackground\\\\lib\\\\site-packages\\\\IPython\\\\extensions', 'C:\\\\Users\\\\rscott\\\\.ipython']\n"
     ]
    }
   ],
   "source": [
    "import pickle\n",
    "import pyvista as pv\n",
    "import numpy as np\n",
    "import pandas as pd\n",
    "\n",
    "import sys\n",
    "import os\n",
    "#sys.path.append('..')\n",
    "#sys.path.insert(0, \"../../lib/\")\n",
    "print(sys.path)\n",
    "#MODULE_FULL_PATH = r'C:\\Users\\rscott\\OneDrive - OZ Minerals\\Exploration2022\\geomodel-2-3dweb\\scripts\\lib'\n",
    "#sys.path.insert(1, MODULE_FULL_PATH)\n",
    "#import scripts\n",
    "#import lib\n",
    "\n",
    "#from lib.db.geometry.model_geometries import ModelGeometries\n",
    "#from lib.imports.gocad.props import PROPS\n",
    "#from lib.db.style.style import STYLE\n",
    "#from lib.db.geometry.types import VRTX, ATOM, TRGL, SEG\n",
    "#from lib.db.metadata.metadata import METADATA, MapFeat\n",
    "\n"
   ]
  },
  {
   "cell_type": "code",
   "execution_count": 2,
   "metadata": {},
   "outputs": [
    {
     "data": {
      "text/plain": [
       "<module 'lib' (namespace)>"
      ]
     },
     "execution_count": 2,
     "metadata": {},
     "output_type": "execute_result"
    }
   ],
   "source": [
    "lib"
   ]
  },
  {
   "cell_type": "code",
   "execution_count": 2,
   "metadata": {},
   "outputs": [
    {
     "data": {
      "text/plain": [
       "_atom_arr: []\n",
       "_ijk_data: [defaultdict(<class 'list'>, {(0, 0, 0): -100000.0, (1, 0, 0): -100000.0, (2, 0, 0): -100000.0, (3, 0, 0): -100000.0, (4, 0, 0): -100000.0, (5, 0, 0): -100000.0, (6, 0, 0): -100000.0, (7, 0, 0): -100000.0, (8, 0, 0): -100000.0, (9, 0, 0): -100000.0, (10, 0, 0): -100000.0, (11, 0, 0): -100000.0, (12, 0, 0): -100000.0, (13, 0, 0): -100000.0, (14, 0, 0): -100000.0, (15, 0, 0): -100000.0, (16, 0, 0): -100000.0, (17, 0, 0): -100000.0, (18, 0, 0): -100000.0, (19, 0, 0): -100000.0, (20, 0, 0): -100000.\n",
       "_max_data: [2.960391044616699]\n",
       "_min_data: [2.59062]\n",
       "_no_data_marker: [-100000.0]\n",
       "_seg_arr: []\n",
       "_trgl_arr: []\n",
       "_vrtx_arr: []\n",
       "_xyz_data: [defaultdict(<class 'list'>, {(-30000.0, 7281000.0, 3000.0): -100000.0, (18000.0, 7413000.0, 3000.0): -100000.0, (66000.0, 7545000.0, 3000.0): -100000.0, (114000.0, 7677000.0, 3000.0): -100000.0, (162000.0, 7809000.0, 3000.0): -100000.0, (210000.0, 7377000.0, 2750.0): -100000.0, (258000.0, 7509000.0, 2750.0): -100000.0, (-18000.0, 7643000.0, 2750.0): -100000.0, (30000.0, 7775000.0, 2750.0): -100000.0, (78000.0, 7343000.0, 2500.0): -100000.0, (126000.0, 7475000.0, 2500.0): -100000.0, (174000.0, 7\n",
       "atom_arr: []\n",
       "is_vert_line: False\n",
       "line_width: 1000\n",
       "max_x: 292000.0\n",
       "max_y: 7843000.0\n",
       "max_z: 3000.0\n",
       "min_x: -30000.0\n",
       "min_y: 7281000.0\n",
       "min_z: -25000.0\n",
       "seg_arr: []\n",
       "trgl_arr: []\n",
       "vol_axis_u: (322000.0, 0.0, 0.0)\n",
       "vol_axis_v: (0.0, 562000.0, 0.0)\n",
       "vol_axis_w: (0.0, 0.0, 28000.0)\n",
       "vol_data: array([[[0., 0., 0., ..., 0., 0., 0.],\n",
       "        [0., 0., 0., ..., 0., 0., 0.],\n",
       "        [0., 0., 0., ..., 0., 0., 0.],\n",
       "        ...,\n",
       "        [0., 0., 0., ..., 0., 0., 0.],\n",
       "        [0., 0., 0., ..., 0., 0., 0.],\n",
       "        [0., 0., 0., ..., 0., 0., 0.]],\n",
       "\n",
       "       [[0., 0., 0., ..., 0., 0., 0.],\n",
       "        [0., 0., 0., ..., 0., 0., 0.],\n",
       "        [0., 0., 0., ..., 0., 0., 0.],\n",
       "        ...,\n",
       "        [0., 0., 0., ..., 0., 0., 0.],\n",
       "        [0., 0., 0., ..., 0., 0., 0.],\n",
       "        [0., 0., 0., ..., 0., 0., 0.]],\n",
       "\n",
       "  \n",
       "vol_data_type: 'FLOAT_32'\n",
       "vol_origin: (-30000.0, 7281000.0, -25000.0)\n",
       "vol_sz: (161, 281, 37)\n",
       "vrtx_arr: []"
      ]
     },
     "execution_count": 2,
     "metadata": {},
     "output_type": "execute_result"
    }
   ],
   "source": [
    "with open(r'E:/3D_Map_of_North_Queensland_2009_3D_Data/inversions_grav_mag_voxets/inversions\\SGrids/Cloncurry_inversions_unconst_den.pkl','rb') as f:\n",
    "    density = pickle.load(f)\n",
    "    \n",
    "density"
   ]
  },
  {
   "cell_type": "code",
   "execution_count": 4,
   "metadata": {},
   "outputs": [
    {
     "data": {
      "text/plain": [
       "0.0"
      ]
     },
     "execution_count": 4,
     "metadata": {},
     "output_type": "execute_result"
    }
   ],
   "source": [
    "density.vol_data.max()"
   ]
  },
  {
   "cell_type": "code",
   "execution_count": null,
   "metadata": {},
   "outputs": [],
   "source": []
  }
 ],
 "metadata": {
  "kernelspec": {
   "display_name": "Python [conda env:pyvistabackground]",
   "language": "python",
   "name": "conda-env-pyvistabackground-py"
  },
  "language_info": {
   "codemirror_mode": {
    "name": "ipython",
    "version": 3
   },
   "file_extension": ".py",
   "mimetype": "text/x-python",
   "name": "python",
   "nbconvert_exporter": "python",
   "pygments_lexer": "ipython3",
   "version": "3.8.5"
  }
 },
 "nbformat": 4,
 "nbformat_minor": 4
}
