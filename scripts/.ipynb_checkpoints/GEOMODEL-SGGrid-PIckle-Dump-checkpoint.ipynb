{
 "cells": [
  {
   "cell_type": "code",
   "execution_count": 34,
   "metadata": {},
   "outputs": [],
   "source": [
    "import pickle\n",
    "import pyvista as pv\n",
    "import numpy as np\n",
    "import pandas as pd\n",
    "\n",
    "import sys\n",
    "import os\n"
   ]
  },
  {
   "cell_type": "code",
   "execution_count": 35,
   "metadata": {},
   "outputs": [],
   "source": [
    "#need geomodel repository/libraries"
   ]
  },
  {
   "cell_type": "code",
   "execution_count": 66,
   "metadata": {},
   "outputs": [],
   "source": [
    "def geomodelSG_to_vtk(filename):\n",
    "    '''\n",
    "    need to be in geomodel directory and have those packages installed\n",
    "    '''\n",
    "    with open(filename, 'rb') as f:\n",
    "        model = pickle.load(f)\n",
    "\n",
    "    data = model._xyz_data[0].items()\n",
    "    data = list(data)\n",
    "    data = np.array(data)\n",
    "    x = [x[0] for x in data[:,0]]\n",
    "    y = [x[1] for x in data[:,0]]\n",
    "    z = [x[2] for x in data[:,0]]\n",
    "    df = pd.DataFrame()\n",
    "    df['x'] = x\n",
    "    df['y'] = y\n",
    "    df['z'] = z\n",
    "    df['modelvalues'] = data[:,1]\n",
    "    #df = df.sort_values(by=['z','y','x'])\n",
    "    grid = pv.RectilinearGrid(np.asarray(df['x']), np.asarray(df['y']), np.asarray(df['z']))\n",
    "    grid['modelvalues'] = np.asarray(df['modelvalues'])\n",
    "    \n",
    "    grid.save(filename + '.vtr')\n",
    "        \n",
    "    return grid\n",
    "\n"
   ]
  },
  {
   "cell_type": "code",
   "execution_count": 2,
   "metadata": {},
   "outputs": [
    {
     "data": {
      "text/plain": [
       "_atom_arr: []\n",
       "_ijk_data: [defaultdict(<class 'list'>, {(0, 0, 0): -100000.0, (1, 0, 0): -100000.0, (2, 0, 0): -100000.0, (3, 0, 0): -100000.0, (4, 0, 0): -100000.0, (5, 0, 0): -100000.0, (6, 0, 0): -100000.0, (7, 0, 0): -100000.0, (8, 0, 0): -100000.0, (9, 0, 0): -100000.0, (10, 0, 0): -100000.0, (11, 0, 0): -100000.0, (12, 0, 0): -100000.0, (13, 0, 0): -100000.0, (14, 0, 0): -100000.0, (15, 0, 0): -100000.0, (16, 0, 0): -100000.0, (17, 0, 0): -100000.0, (18, 0, 0): -100000.0, (19, 0, 0): -100000.0, (20, 0, 0): -100000.\n",
       "_max_data: [2.960391044616699]\n",
       "_min_data: [2.59062]\n",
       "_no_data_marker: [-100000.0]\n",
       "_seg_arr: []\n",
       "_trgl_arr: []\n",
       "_vrtx_arr: []\n",
       "_xyz_data: [defaultdict(<class 'list'>, {(-30000.0, 7281000.0, 3000.0): -100000.0, (18000.0, 7413000.0, 3000.0): -100000.0, (66000.0, 7545000.0, 3000.0): -100000.0, (114000.0, 7677000.0, 3000.0): -100000.0, (162000.0, 7809000.0, 3000.0): -100000.0, (210000.0, 7377000.0, 2750.0): -100000.0, (258000.0, 7509000.0, 2750.0): -100000.0, (-18000.0, 7643000.0, 2750.0): -100000.0, (30000.0, 7775000.0, 2750.0): -100000.0, (78000.0, 7343000.0, 2500.0): -100000.0, (126000.0, 7475000.0, 2500.0): -100000.0, (174000.0, 7\n",
       "atom_arr: []\n",
       "is_vert_line: False\n",
       "line_width: 1000\n",
       "max_x: 292000.0\n",
       "max_y: 7843000.0\n",
       "max_z: 3000.0\n",
       "min_x: -30000.0\n",
       "min_y: 7281000.0\n",
       "min_z: -25000.0\n",
       "seg_arr: []\n",
       "trgl_arr: []\n",
       "vol_axis_u: (322000.0, 0.0, 0.0)\n",
       "vol_axis_v: (0.0, 562000.0, 0.0)\n",
       "vol_axis_w: (0.0, 0.0, 28000.0)\n",
       "vol_data: array([[[0., 0., 0., ..., 0., 0., 0.],\n",
       "        [0., 0., 0., ..., 0., 0., 0.],\n",
       "        [0., 0., 0., ..., 0., 0., 0.],\n",
       "        ...,\n",
       "        [0., 0., 0., ..., 0., 0., 0.],\n",
       "        [0., 0., 0., ..., 0., 0., 0.],\n",
       "        [0., 0., 0., ..., 0., 0., 0.]],\n",
       "\n",
       "       [[0., 0., 0., ..., 0., 0., 0.],\n",
       "        [0., 0., 0., ..., 0., 0., 0.],\n",
       "        [0., 0., 0., ..., 0., 0., 0.],\n",
       "        ...,\n",
       "        [0., 0., 0., ..., 0., 0., 0.],\n",
       "        [0., 0., 0., ..., 0., 0., 0.],\n",
       "        [0., 0., 0., ..., 0., 0., 0.]],\n",
       "\n",
       "  \n",
       "vol_data_type: 'FLOAT_32'\n",
       "vol_origin: (-30000.0, 7281000.0, -25000.0)\n",
       "vol_sz: (161, 281, 37)\n",
       "vrtx_arr: []"
      ]
     },
     "execution_count": 2,
     "metadata": {},
     "output_type": "execute_result"
    }
   ],
   "source": [
    "with open(r'E:/3D_Map_of_North_Queensland_2009_3D_Data/inversions_grav_mag_voxets/inversions\\SGrids/Cloncurry_inversions_unconst_den.pkl','rb') as f:\n",
    "    density = pickle.load(f)\n",
    "    \n",
    "density"
   ]
  },
  {
   "cell_type": "code",
   "execution_count": 3,
   "metadata": {},
   "outputs": [
    {
     "data": {
      "text/plain": [
       "0.0"
      ]
     },
     "execution_count": 3,
     "metadata": {},
     "output_type": "execute_result"
    }
   ],
   "source": [
    "density.vol_data.max()"
   ]
  },
  {
   "cell_type": "code",
   "execution_count": 4,
   "metadata": {},
   "outputs": [
    {
     "name": "stderr",
     "output_type": "stream",
     "text": [
      "<ipython-input-4-d14641d46f8f>:3: VisibleDeprecationWarning: Creating an ndarray from ragged nested sequences (which is a list-or-tuple of lists-or-tuples-or ndarrays with different lengths or shapes) is deprecated. If you meant to do this, you must specify 'dtype=object' when creating the ndarray\n",
      "  junka = np.array(junkl)\n"
     ]
    }
   ],
   "source": [
    "junk = density._xyz_data[0].items()\n",
    "junkl = list(junk)\n",
    "junka = np.array(junkl)\n"
   ]
  },
  {
   "cell_type": "code",
   "execution_count": 5,
   "metadata": {},
   "outputs": [
    {
     "data": {
      "text/plain": [
       "(1673917, 2)"
      ]
     },
     "execution_count": 5,
     "metadata": {},
     "output_type": "execute_result"
    }
   ],
   "source": [
    "junka.shape"
   ]
  },
  {
   "cell_type": "code",
   "execution_count": 6,
   "metadata": {},
   "outputs": [
    {
     "data": {
      "text/plain": [
       "array([(-30000.0, 7281000.0, 3000.0), -100000.0], dtype=object)"
      ]
     },
     "execution_count": 6,
     "metadata": {},
     "output_type": "execute_result"
    }
   ],
   "source": [
    "junka[0]"
   ]
  },
  {
   "cell_type": "code",
   "execution_count": 7,
   "metadata": {},
   "outputs": [
    {
     "data": {
      "text/plain": [
       "array([(-30000.0, 7281000.0, 3000.0), (18000.0, 7413000.0, 3000.0),\n",
       "       (66000.0, 7545000.0, 3000.0), ..., (70000.0, 7447000.0, -25000.0),\n",
       "       (118000.0, 7579000.0, -25000.0), (166000.0, 7711000.0, -25000.0)],\n",
       "      dtype=object)"
      ]
     },
     "execution_count": 7,
     "metadata": {},
     "output_type": "execute_result"
    }
   ],
   "source": [
    "junka[:,0]"
   ]
  },
  {
   "cell_type": "code",
   "execution_count": 8,
   "metadata": {},
   "outputs": [],
   "source": [
    "x = [x[0] for x in junka[:,0]]\n",
    "y = [x[1] for x in junka[:,0]]\n",
    "z = [x[2] for x in junka[:,0]]"
   ]
  },
  {
   "cell_type": "code",
   "execution_count": 9,
   "metadata": {},
   "outputs": [],
   "source": [
    "d = pd.DataFrame()\n",
    "d['x'] = x\n",
    "d['y'] = y\n",
    "d['z'] = z\n",
    "d['density'] = junka[:,1]"
   ]
  },
  {
   "cell_type": "code",
   "execution_count": 10,
   "metadata": {},
   "outputs": [],
   "source": [
    "d.head()\n",
    "d = d.sort_values(by=['z','y','x'])"
   ]
  },
  {
   "cell_type": "code",
   "execution_count": 11,
   "metadata": {},
   "outputs": [
    {
     "data": {
      "text/html": [
       "\n",
       "<table>\n",
       "<tr><th>RectilinearGrid</th><th>Information</th></tr>\n",
       "<tr><td>N Cells</td><td>1673917</td></tr>\n",
       "<tr><td>N Points</td><td>1735992</td></tr>\n",
       "<tr><td>X Bounds</td><td>-3.000e+04, 2.920e+05</td></tr>\n",
       "<tr><td>Y Bounds</td><td>7.281e+06, 7.843e+06</td></tr>\n",
       "<tr><td>Z Bounds</td><td>-2.500e+04, 3.000e+03</td></tr>\n",
       "<tr><td>Dimensions</td><td>162, 282, 38</td></tr>\n",
       "<tr><td>N Arrays</td><td>0</td></tr>\n",
       "</table>\n",
       "\n"
      ],
      "text/plain": [
       "RectilinearGrid (0x15e5b2d7640)\n",
       "  N Cells:\t1673917\n",
       "  N Points:\t1735992\n",
       "  X Bounds:\t-3.000e+04, 2.920e+05\n",
       "  Y Bounds:\t7.281e+06, 7.843e+06\n",
       "  Z Bounds:\t-2.500e+04, 3.000e+03\n",
       "  Dimensions:\t162, 282, 38\n",
       "  N Arrays:\t0"
      ]
     },
     "execution_count": 11,
     "metadata": {},
     "output_type": "execute_result"
    }
   ],
   "source": [
    "grid = pv.RectilinearGrid(np.asarray(d['x']), np.asarray(d['y']), np.asarray(d['z']))\n",
    "grid"
   ]
  },
  {
   "cell_type": "code",
   "execution_count": 12,
   "metadata": {},
   "outputs": [],
   "source": [
    "grid['density'] = np.asarray(d['density'])\n",
    "#grid.plot()"
   ]
  },
  {
   "cell_type": "code",
   "execution_count": 13,
   "metadata": {},
   "outputs": [
    {
     "data": {
      "text/html": [
       "<table><tr><th>Header</th><th>Data Arrays</th></tr><tr><td>\n",
       "<table>\n",
       "<tr><th>RectilinearGrid</th><th>Information</th></tr>\n",
       "<tr><td>N Cells</td><td>1673917</td></tr>\n",
       "<tr><td>N Points</td><td>1735992</td></tr>\n",
       "<tr><td>X Bounds</td><td>-3.000e+04, 2.920e+05</td></tr>\n",
       "<tr><td>Y Bounds</td><td>7.281e+06, 7.843e+06</td></tr>\n",
       "<tr><td>Z Bounds</td><td>-2.500e+04, 3.000e+03</td></tr>\n",
       "<tr><td>Dimensions</td><td>162, 282, 38</td></tr>\n",
       "<tr><td>N Arrays</td><td>1</td></tr>\n",
       "</table>\n",
       "\n",
       "</td><td>\n",
       "<table>\n",
       "<tr><th>Name</th><th>Field</th><th>Type</th><th>N Comp</th><th>Min</th><th>Max</th></tr>\n",
       "<tr><td><b>density</b></td><td>Cells</td><td><U9</td><td>1</td><td>nan</td><td>nan</td></tr>\n",
       "</table>\n",
       "\n",
       "</td></tr> </table>"
      ],
      "text/plain": [
       "RectilinearGrid (0x15e5b2d7640)\n",
       "  N Cells:\t1673917\n",
       "  N Points:\t1735992\n",
       "  X Bounds:\t-3.000e+04, 2.920e+05\n",
       "  Y Bounds:\t7.281e+06, 7.843e+06\n",
       "  Z Bounds:\t-2.500e+04, 3.000e+03\n",
       "  Dimensions:\t162, 282, 38\n",
       "  N Arrays:\t1"
      ]
     },
     "execution_count": 13,
     "metadata": {},
     "output_type": "execute_result"
    }
   ],
   "source": [
    "grid"
   ]
  },
  {
   "cell_type": "code",
   "execution_count": 14,
   "metadata": {},
   "outputs": [
    {
     "data": {
      "text/html": [
       "<div>\n",
       "<style scoped>\n",
       "    .dataframe tbody tr th:only-of-type {\n",
       "        vertical-align: middle;\n",
       "    }\n",
       "\n",
       "    .dataframe tbody tr th {\n",
       "        vertical-align: top;\n",
       "    }\n",
       "\n",
       "    .dataframe thead th {\n",
       "        text-align: right;\n",
       "    }\n",
       "</style>\n",
       "<table border=\"1\" class=\"dataframe\">\n",
       "  <thead>\n",
       "    <tr style=\"text-align: right;\">\n",
       "      <th></th>\n",
       "      <th>x</th>\n",
       "      <th>y</th>\n",
       "      <th>z</th>\n",
       "      <th>density</th>\n",
       "    </tr>\n",
       "  </thead>\n",
       "  <tbody>\n",
       "    <tr>\n",
       "      <th>1390714</th>\n",
       "      <td>-30000.0</td>\n",
       "      <td>7281000.0</td>\n",
       "      <td>-25000.0</td>\n",
       "      <td>2.80016</td>\n",
       "    </tr>\n",
       "    <tr>\n",
       "      <th>1435955</th>\n",
       "      <td>-28000.0</td>\n",
       "      <td>7281000.0</td>\n",
       "      <td>-25000.0</td>\n",
       "      <td>2.79976</td>\n",
       "    </tr>\n",
       "    <tr>\n",
       "      <th>1481196</th>\n",
       "      <td>-26000.0</td>\n",
       "      <td>7281000.0</td>\n",
       "      <td>-25000.0</td>\n",
       "      <td>2.79943</td>\n",
       "    </tr>\n",
       "    <tr>\n",
       "      <th>1526437</th>\n",
       "      <td>-24000.0</td>\n",
       "      <td>7281000.0</td>\n",
       "      <td>-25000.0</td>\n",
       "      <td>2.7991</td>\n",
       "    </tr>\n",
       "    <tr>\n",
       "      <th>1571678</th>\n",
       "      <td>-22000.0</td>\n",
       "      <td>7281000.0</td>\n",
       "      <td>-25000.0</td>\n",
       "      <td>2.79883</td>\n",
       "    </tr>\n",
       "  </tbody>\n",
       "</table>\n",
       "</div>"
      ],
      "text/plain": [
       "               x          y        z  density\n",
       "1390714 -30000.0  7281000.0 -25000.0  2.80016\n",
       "1435955 -28000.0  7281000.0 -25000.0  2.79976\n",
       "1481196 -26000.0  7281000.0 -25000.0  2.79943\n",
       "1526437 -24000.0  7281000.0 -25000.0   2.7991\n",
       "1571678 -22000.0  7281000.0 -25000.0  2.79883"
      ]
     },
     "execution_count": 14,
     "metadata": {},
     "output_type": "execute_result"
    }
   ],
   "source": [
    "d.head()"
   ]
  },
  {
   "cell_type": "code",
   "execution_count": 16,
   "metadata": {},
   "outputs": [
    {
     "ename": "AttributeError",
     "evalue": "'numpy.ndarray' object has no attribute 'plot'",
     "output_type": "error",
     "traceback": [
      "\u001b[1;31m---------------------------------------------------------------------------\u001b[0m",
      "\u001b[1;31mAttributeError\u001b[0m                            Traceback (most recent call last)",
      "\u001b[1;32m<ipython-input-16-31ced8a4e762>\u001b[0m in \u001b[0;36m<module>\u001b[1;34m\u001b[0m\n\u001b[1;32m----> 1\u001b[1;33m \u001b[0mgrid\u001b[0m\u001b[1;33m[\u001b[0m\u001b[1;34m'density'\u001b[0m\u001b[1;33m]\u001b[0m\u001b[1;33m[\u001b[0m\u001b[1;36m0\u001b[0m\u001b[1;33m:\u001b[0m\u001b[1;36m100\u001b[0m\u001b[1;33m]\u001b[0m\u001b[1;33m.\u001b[0m\u001b[0mplot\u001b[0m\u001b[1;33m(\u001b[0m\u001b[1;33m)\u001b[0m\u001b[1;33m\u001b[0m\u001b[1;33m\u001b[0m\u001b[0m\n\u001b[0m",
      "\u001b[1;31mAttributeError\u001b[0m: 'numpy.ndarray' object has no attribute 'plot'"
     ]
    }
   ],
   "source": [
    "grid['density'].plot()"
   ]
  },
  {
   "cell_type": "code",
   "execution_count": 17,
   "metadata": {},
   "outputs": [],
   "source": [
    "grid.save(r'E:/3D_Map_of_North_Queensland_2009_3D_Data/inversions_grav_mag_voxets/inversions\\SGrids/Cloncurry_inversions_unconst_den.pkl.vtk')"
   ]
  },
  {
   "cell_type": "code",
   "execution_count": 29,
   "metadata": {},
   "outputs": [
    {
     "name": "stderr",
     "output_type": "stream",
     "text": [
      "<ipython-input-28-70aae37a95b6>:10: VisibleDeprecationWarning: Creating an ndarray from ragged nested sequences (which is a list-or-tuple of lists-or-tuples-or ndarrays with different lengths or shapes) is deprecated. If you meant to do this, you must specify 'dtype=object' when creating the ndarray\n",
      "  data = np.array(data)\n"
     ]
    }
   ],
   "source": [
    "grid = geomodelSG_to_vtk(r'E:/3D_Map_of_North_Queensland_2009_3D_Data/inversions_grav_mag_voxets/inversions\\SGrids/Cloncurry_inversions_unconst_den.pkl')"
   ]
  },
  {
   "cell_type": "code",
   "execution_count": 23,
   "metadata": {},
   "outputs": [
    {
     "data": {
      "text/html": [
       "<table><tr><th>Header</th><th>Data Arrays</th></tr><tr><td>\n",
       "<table>\n",
       "<tr><th>RectilinearGrid</th><th>Information</th></tr>\n",
       "<tr><td>N Cells</td><td>1673917</td></tr>\n",
       "<tr><td>N Points</td><td>1735992</td></tr>\n",
       "<tr><td>X Bounds</td><td>-3.000e+04, 2.920e+05</td></tr>\n",
       "<tr><td>Y Bounds</td><td>7.281e+06, 7.843e+06</td></tr>\n",
       "<tr><td>Z Bounds</td><td>-2.500e+04, 3.000e+03</td></tr>\n",
       "<tr><td>Dimensions</td><td>162, 282, 38</td></tr>\n",
       "<tr><td>N Arrays</td><td>1</td></tr>\n",
       "</table>\n",
       "\n",
       "</td><td>\n",
       "<table>\n",
       "<tr><th>Name</th><th>Field</th><th>Type</th><th>N Comp</th><th>Min</th><th>Max</th></tr>\n",
       "<tr><td><b>modelvalues</b></td><td>Cells</td><td><U9</td><td>1</td><td>nan</td><td>nan</td></tr>\n",
       "</table>\n",
       "\n",
       "</td></tr> </table>"
      ],
      "text/plain": [
       "RectilinearGrid (0x15e0db265e0)\n",
       "  N Cells:\t1673917\n",
       "  N Points:\t1735992\n",
       "  X Bounds:\t-3.000e+04, 2.920e+05\n",
       "  Y Bounds:\t7.281e+06, 7.843e+06\n",
       "  Z Bounds:\t-2.500e+04, 3.000e+03\n",
       "  Dimensions:\t162, 282, 38\n",
       "  N Arrays:\t1"
      ]
     },
     "execution_count": 23,
     "metadata": {},
     "output_type": "execute_result"
    }
   ],
   "source": [
    "grid"
   ]
  },
  {
   "cell_type": "code",
   "execution_count": 25,
   "metadata": {},
   "outputs": [
    {
     "data": {
      "text/plain": [
       "'2.7953384'"
      ]
     },
     "execution_count": 25,
     "metadata": {},
     "output_type": "execute_result"
    }
   ],
   "source": [
    "grid['modelvalues'][500000]"
   ]
  },
  {
   "cell_type": "code",
   "execution_count": 30,
   "metadata": {},
   "outputs": [
    {
     "name": "stderr",
     "output_type": "stream",
     "text": [
      "<ipython-input-28-70aae37a95b6>:10: VisibleDeprecationWarning: Creating an ndarray from ragged nested sequences (which is a list-or-tuple of lists-or-tuples-or ndarrays with different lengths or shapes) is deprecated. If you meant to do this, you must specify 'dtype=object' when creating the ndarray\n",
      "  data = np.array(data)\n"
     ]
    }
   ],
   "source": [
    "grid = geomodelSG_to_vtk(r'E:/3D_Map_of_North_Queensland_2009_3D_Data/inversions_grav_mag_voxets/inversions/SGrids/Cloncurry_inversions_unconst_sus@@.pkl')"
   ]
  },
  {
   "cell_type": "code",
   "execution_count": 32,
   "metadata": {},
   "outputs": [],
   "source": [
    "test = pv.read(r'E:/3D_Map_of_North_Queensland_2009_3D_Data/inversions_grav_mag_voxets/inversions/SGrids/Cloncurry_inversions_unconst_sus@@.pkl.vtr')"
   ]
  },
  {
   "cell_type": "code",
   "execution_count": 33,
   "metadata": {},
   "outputs": [
    {
     "data": {
      "text/html": [
       "<table><tr><th>Header</th><th>Data Arrays</th></tr><tr><td>\n",
       "<table>\n",
       "<tr><th>RectilinearGrid</th><th>Information</th></tr>\n",
       "<tr><td>N Cells</td><td>1673917</td></tr>\n",
       "<tr><td>N Points</td><td>1735992</td></tr>\n",
       "<tr><td>X Bounds</td><td>-3.000e+04, 2.920e+05</td></tr>\n",
       "<tr><td>Y Bounds</td><td>7.281e+06, 7.843e+06</td></tr>\n",
       "<tr><td>Z Bounds</td><td>-2.500e+04, 3.000e+03</td></tr>\n",
       "<tr><td>Dimensions</td><td>162, 282, 38</td></tr>\n",
       "<tr><td>N Arrays</td><td>1</td></tr>\n",
       "</table>\n",
       "\n",
       "</td><td>\n",
       "<table>\n",
       "<tr><th>Name</th><th>Field</th><th>Type</th><th>N Comp</th><th>Min</th><th>Max</th></tr>\n",
       "<tr><td><b>modelvalues</b></td><td>Cells</td><td><U11</td><td>1</td><td>nan</td><td>nan</td></tr>\n",
       "</table>\n",
       "\n",
       "</td></tr> </table>"
      ],
      "text/plain": [
       "RectilinearGrid (0x15e144d43a0)\n",
       "  N Cells:\t1673917\n",
       "  N Points:\t1735992\n",
       "  X Bounds:\t-3.000e+04, 2.920e+05\n",
       "  Y Bounds:\t7.281e+06, 7.843e+06\n",
       "  Z Bounds:\t-2.500e+04, 3.000e+03\n",
       "  Dimensions:\t162, 282, 38\n",
       "  N Arrays:\t1"
      ]
     },
     "execution_count": 33,
     "metadata": {},
     "output_type": "execute_result"
    }
   ],
   "source": [
    "test"
   ]
  },
  {
   "cell_type": "code",
   "execution_count": 37,
   "metadata": {},
   "outputs": [
    {
     "name": "stderr",
     "output_type": "stream",
     "text": [
      "<ipython-input-28-70aae37a95b6>:10: VisibleDeprecationWarning: Creating an ndarray from ragged nested sequences (which is a list-or-tuple of lists-or-tuples-or ndarrays with different lengths or shapes) is deprecated. If you meant to do this, you must specify 'dtype=object' when creating the ndarray\n",
      "  data = np.array(data)\n"
     ]
    }
   ],
   "source": [
    "mapdir = r'E:\\3D_Map_of_North_Queensland_2009_3D_Data\\inversions_grav_mag_voxets\\inversions\\SGrids' + \"\\\\\"\n",
    "maplist = ['3DMap_inversions_const_sus@@.pkl', '3DMap_inversions_const_den@@.pkl', '3DMap_inversions_const_reference_den@@.pkl','3DMap_inversions_const_reference_sus@@.pkl']\n",
    "\n",
    "for m in maplist:\n",
    "    fileuse = mapdir + m\n",
    "    grid = geomodelSG_to_vtk(fileuse)"
   ]
  },
  {
   "cell_type": "code",
   "execution_count": 38,
   "metadata": {},
   "outputs": [
    {
     "data": {
      "text/html": [
       "<table><tr><th>Header</th><th>Data Arrays</th></tr><tr><td>\n",
       "<table>\n",
       "<tr><th>RectilinearGrid</th><th>Information</th></tr>\n",
       "<tr><td>N Cells</td><td>4056939</td></tr>\n",
       "<tr><td>N Points</td><td>4192160</td></tr>\n",
       "<tr><td>X Bounds</td><td>3.400e+04, 8.200e+05</td></tr>\n",
       "<tr><td>Y Bounds</td><td>7.560e+06, 8.118e+06</td></tr>\n",
       "<tr><td>Z Bounds</td><td>-2.500e+04, 3.000e+03</td></tr>\n",
       "<tr><td>Dimensions</td><td>394, 280, 38</td></tr>\n",
       "<tr><td>N Arrays</td><td>1</td></tr>\n",
       "</table>\n",
       "\n",
       "</td><td>\n",
       "<table>\n",
       "<tr><th>Name</th><th>Field</th><th>Type</th><th>N Comp</th><th>Min</th><th>Max</th></tr>\n",
       "<tr><td><b>modelvalues</b></td><td>Cells</td><td><U11</td><td>1</td><td>nan</td><td>nan</td></tr>\n",
       "</table>\n",
       "\n",
       "</td></tr> </table>"
      ],
      "text/plain": [
       "RectilinearGrid (0x15e144d4e80)\n",
       "  N Cells:\t4056939\n",
       "  N Points:\t4192160\n",
       "  X Bounds:\t3.400e+04, 8.200e+05\n",
       "  Y Bounds:\t7.560e+06, 8.118e+06\n",
       "  Z Bounds:\t-2.500e+04, 3.000e+03\n",
       "  Dimensions:\t394, 280, 38\n",
       "  N Arrays:\t1"
      ]
     },
     "execution_count": 38,
     "metadata": {},
     "output_type": "execute_result"
    }
   ],
   "source": [
    "test = pv.read(mapdir + '3DMap_inversions_const_reference_sus@@.pkl.vtr')\n",
    "test"
   ]
  },
  {
   "cell_type": "code",
   "execution_count": 39,
   "metadata": {},
   "outputs": [
    {
     "data": {
      "text/plain": [
       "'0.001'"
      ]
     },
     "execution_count": 39,
     "metadata": {},
     "output_type": "execute_result"
    }
   ],
   "source": [
    "test['modelvalues'][2000000]"
   ]
  },
  {
   "cell_type": "code",
   "execution_count": 41,
   "metadata": {},
   "outputs": [
    {
     "data": {
      "text/plain": [
       "_atom_arr: []\n",
       "_ijk_data: [defaultdict(<class 'list'>, {(0, 0, 0): 0.0, (1, 0, 0): 0.0, (2, 0, 0): 0.0, (3, 0, 0): 0.0, (4, 0, 0): 0.0, (5, 0, 0): 0.0, (6, 0, 0): 0.0, (7, 0, 0): 0.0, (8, 0, 0): 0.0, (9, 0, 0): 0.0, (10, 0, 0): 0.0, (11, 0, 0): 0.0, (12, 0, 0): 0.0, (13, 0, 0): 0.0, (14, 0, 0): 0.0, (15, 0, 0): 0.0, (16, 0, 0): 0.0, (17, 0, 0): 0.0, (18, 0, 0): 0.0, (19, 0, 0): 0.0, (20, 0, 0): 0.0, (21, 0, 0): 0.0, (22, 0, 0): 0.0, (23, 0, 0): 0.0, (24, 0, 0): 0.0, (25, 0, 0): 0.0, (26, 0, 0): 0.0, (27, 0, 0): 0.0, (28,\n",
       "_max_data: [0.03999999910593033]\n",
       "_min_data: [-1.75]\n",
       "_no_data_marker: [-99999.0]\n",
       "_seg_arr: []\n",
       "_trgl_arr: []\n",
       "_vrtx_arr: []\n",
       "_xyz_data: [defaultdict(<class 'list'>, {(34000.0, 7560000.0, 3000.0): 0.0, (38000.0, 7614000.0, 3000.0): 0.0, (42000.0, 7668000.0, 3000.0): 0.0, (46000.0, 7722000.0, 3000.0): 0.0, (50000.0, 7776000.0, 3000.0): 0.0, (54000.0, 7830000.0, 3000.0): 0.0, (58000.0, 7884000.0, 3000.0): 0.0, (62000.0, 7938000.0, 3000.0): 0.0, (66000.0, 7992000.0, 3000.0): 0.0, (70000.0, 8046000.0, 3000.0): 0.0, (74000.0, 8100000.0, 3000.0): 0.0, (78000.0, 7594000.0, 2750.0): 0.0, (82000.0, 7648000.0, 2750.0): 0.0, (86000.0, 77020\n",
       "atom_arr: []\n",
       "is_vert_line: False\n",
       "line_width: 1000\n",
       "max_x: 820000.0\n",
       "max_y: 8118000.0\n",
       "max_z: 3000.0\n",
       "min_x: 34000.0\n",
       "min_y: 7560000.0\n",
       "min_z: -25000.0\n",
       "seg_arr: []\n",
       "trgl_arr: []\n",
       "vol_axis_u: (786000.0, 0.0, 0.0)\n",
       "vol_axis_v: (0.0, 558000.0, 0.0)\n",
       "vol_axis_w: (0.0, 0.0, 28000.0)\n",
       "vol_data: array([[[0., 0., 0., ..., 0., 0., 0.],\n",
       "        [0., 0., 0., ..., 0., 0., 0.],\n",
       "        [0., 0., 0., ..., 0., 0., 0.],\n",
       "        ...,\n",
       "        [0., 0., 0., ..., 0., 0., 0.],\n",
       "        [0., 0., 0., ..., 0., 0., 0.],\n",
       "        [0., 0., 0., ..., 0., 0., 0.]],\n",
       "\n",
       "       [[0., 0., 0., ..., 0., 0., 0.],\n",
       "        [0., 0., 0., ..., 0., 0., 0.],\n",
       "        [0., 0., 0., ..., 0., 0., 0.],\n",
       "        ...,\n",
       "        [0., 0., 0., ..., 0., 0., 0.],\n",
       "        [0., 0., 0., ..., 0., 0., 0.],\n",
       "        [0., 0., 0., ..., 0., 0., 0.]],\n",
       "\n",
       "  \n",
       "vol_data_type: 'FLOAT_32'\n",
       "vol_origin: (34000.0, 7560000.0, -25000.0)\n",
       "vol_sz: (393, 279, 37)\n",
       "vrtx_arr: []"
      ]
     },
     "execution_count": 41,
     "metadata": {},
     "output_type": "execute_result"
    }
   ],
   "source": [
    "with open(r'E:\\3D_Map_of_North_Queensland_2009_3D_Data\\inversions_grav_mag_voxets\\inversions\\SGrids\\3DMap_inversions_const_reference_den@@.pkl','rb') as f:\n",
    "    dentest = pickle.load(f)\n",
    "    \n",
    "dentest    "
   ]
  },
  {
   "cell_type": "code",
   "execution_count": 42,
   "metadata": {},
   "outputs": [
    {
     "name": "stderr",
     "output_type": "stream",
     "text": [
      "<ipython-input-42-1cc39ba0c8f7>:5: VisibleDeprecationWarning: Creating an ndarray from ragged nested sequences (which is a list-or-tuple of lists-or-tuples-or ndarrays with different lengths or shapes) is deprecated. If you meant to do this, you must specify 'dtype=object' when creating the ndarray\n",
      "  data = np.array(data)\n"
     ]
    }
   ],
   "source": [
    "model = dentest\n",
    "data = model._xyz_data[0].items()\n",
    "data = list(data)\n",
    "\n",
    "data = np.array(data)\n",
    "x = [x[0] for x in data[:,0]]\n",
    "y = [x[1] for x in data[:,0]]\n",
    "z = [x[2] for x in data[:,0]]\n",
    "df = pd.DataFrame()\n",
    "df['x'] = x\n",
    "df['y'] = y\n",
    "df['z'] = z\n",
    "df['modelvalues'] = data[:,1]"
   ]
  },
  {
   "cell_type": "code",
   "execution_count": 43,
   "metadata": {},
   "outputs": [
    {
     "data": {
      "text/html": [
       "<div>\n",
       "<style scoped>\n",
       "    .dataframe tbody tr th:only-of-type {\n",
       "        vertical-align: middle;\n",
       "    }\n",
       "\n",
       "    .dataframe tbody tr th {\n",
       "        vertical-align: top;\n",
       "    }\n",
       "\n",
       "    .dataframe thead th {\n",
       "        text-align: right;\n",
       "    }\n",
       "</style>\n",
       "<table border=\"1\" class=\"dataframe\">\n",
       "  <thead>\n",
       "    <tr style=\"text-align: right;\">\n",
       "      <th></th>\n",
       "      <th>x</th>\n",
       "      <th>y</th>\n",
       "      <th>z</th>\n",
       "      <th>modelvalues</th>\n",
       "    </tr>\n",
       "  </thead>\n",
       "  <tbody>\n",
       "    <tr>\n",
       "      <th>0</th>\n",
       "      <td>34000.0</td>\n",
       "      <td>7560000.0</td>\n",
       "      <td>3000.0</td>\n",
       "      <td>0</td>\n",
       "    </tr>\n",
       "    <tr>\n",
       "      <th>1</th>\n",
       "      <td>38000.0</td>\n",
       "      <td>7614000.0</td>\n",
       "      <td>3000.0</td>\n",
       "      <td>0</td>\n",
       "    </tr>\n",
       "    <tr>\n",
       "      <th>2</th>\n",
       "      <td>42000.0</td>\n",
       "      <td>7668000.0</td>\n",
       "      <td>3000.0</td>\n",
       "      <td>0</td>\n",
       "    </tr>\n",
       "    <tr>\n",
       "      <th>3</th>\n",
       "      <td>46000.0</td>\n",
       "      <td>7722000.0</td>\n",
       "      <td>3000.0</td>\n",
       "      <td>0</td>\n",
       "    </tr>\n",
       "    <tr>\n",
       "      <th>4</th>\n",
       "      <td>50000.0</td>\n",
       "      <td>7776000.0</td>\n",
       "      <td>3000.0</td>\n",
       "      <td>0</td>\n",
       "    </tr>\n",
       "  </tbody>\n",
       "</table>\n",
       "</div>"
      ],
      "text/plain": [
       "         x          y       z modelvalues\n",
       "0  34000.0  7560000.0  3000.0           0\n",
       "1  38000.0  7614000.0  3000.0           0\n",
       "2  42000.0  7668000.0  3000.0           0\n",
       "3  46000.0  7722000.0  3000.0           0\n",
       "4  50000.0  7776000.0  3000.0           0"
      ]
     },
     "execution_count": 43,
     "metadata": {},
     "output_type": "execute_result"
    }
   ],
   "source": [
    "df.head()"
   ]
  },
  {
   "cell_type": "code",
   "execution_count": 47,
   "metadata": {},
   "outputs": [
    {
     "data": {
      "text/plain": [
       "-1.75"
      ]
     },
     "execution_count": 47,
     "metadata": {},
     "output_type": "execute_result"
    }
   ],
   "source": [
    "df['modelvalues'].min()"
   ]
  },
  {
   "cell_type": "code",
   "execution_count": 48,
   "metadata": {},
   "outputs": [
    {
     "data": {
      "text/html": [
       "<table><tr><th>Header</th><th>Data Arrays</th></tr><tr><td>\n",
       "<table>\n",
       "<tr><th>RectilinearGrid</th><th>Information</th></tr>\n",
       "<tr><td>N Cells</td><td>4056939</td></tr>\n",
       "<tr><td>N Points</td><td>4192160</td></tr>\n",
       "<tr><td>X Bounds</td><td>3.400e+04, 8.200e+05</td></tr>\n",
       "<tr><td>Y Bounds</td><td>7.560e+06, 8.118e+06</td></tr>\n",
       "<tr><td>Z Bounds</td><td>-2.500e+04, 3.000e+03</td></tr>\n",
       "<tr><td>Dimensions</td><td>394, 280, 38</td></tr>\n",
       "<tr><td>N Arrays</td><td>1</td></tr>\n",
       "</table>\n",
       "\n",
       "</td><td>\n",
       "<table>\n",
       "<tr><th>Name</th><th>Field</th><th>Type</th><th>N Comp</th><th>Min</th><th>Max</th></tr>\n",
       "<tr><td><b>modelvalues</b></td><td>Cells</td><td><U9</td><td>1</td><td>nan</td><td>nan</td></tr>\n",
       "</table>\n",
       "\n",
       "</td></tr> </table>"
      ],
      "text/plain": [
       "RectilinearGrid (0x15e144d4d00)\n",
       "  N Cells:\t4056939\n",
       "  N Points:\t4192160\n",
       "  X Bounds:\t3.400e+04, 8.200e+05\n",
       "  Y Bounds:\t7.560e+06, 8.118e+06\n",
       "  Z Bounds:\t-2.500e+04, 3.000e+03\n",
       "  Dimensions:\t394, 280, 38\n",
       "  N Arrays:\t1"
      ]
     },
     "execution_count": 48,
     "metadata": {},
     "output_type": "execute_result"
    }
   ],
   "source": [
    "grid = pv.RectilinearGrid(np.asarray(df['x']), np.asarray(df['y']), np.asarray(df['z']))\n",
    "grid['modelvalues'] = np.asarray(df['modelvalues'])\n",
    "grid"
   ]
  },
  {
   "cell_type": "code",
   "execution_count": 63,
   "metadata": {},
   "outputs": [],
   "source": [
    "clip = grid.clip_box(factor=0.02,invert=False)"
   ]
  },
  {
   "cell_type": "code",
   "execution_count": 64,
   "metadata": {},
   "outputs": [
    {
     "data": {
      "image/png": "[encoded data removed]",
      "text/plain": [
       "<PIL.Image.Image image mode=RGB size=1024x768 at 0x15E262EAC70>"
      ]
     },
     "metadata": {},
     "output_type": "display_data"
    }
   ],
   "source": [
    "clip.plot()"
   ]
  },
  {
   "cell_type": "code",
   "execution_count": 60,
   "metadata": {},
   "outputs": [],
   "source": [
    "clip = grid.clip_box([350000,450000,7500000,7600000,-5000,0],invert=False)"
   ]
  },
  {
   "cell_type": "code",
   "execution_count": 61,
   "metadata": {},
   "outputs": [
    {
     "data": {
      "text/html": [
       "<table><tr><th>Header</th><th>Data Arrays</th></tr><tr><td>\n",
       "<table>\n",
       "<tr><th>UnstructuredGrid</th><th>Information</th></tr>\n",
       "<tr><td>N Cells</td><td>30000</td></tr>\n",
       "<tr><td>N Points</td><td>6426</td></tr>\n",
       "<tr><td>X Bounds</td><td>3.500e+05, 4.500e+05</td></tr>\n",
       "<tr><td>Y Bounds</td><td>7.560e+06, 7.600e+06</td></tr>\n",
       "<tr><td>Z Bounds</td><td>-5.000e+03, 0.000e+00</td></tr>\n",
       "<tr><td>N Arrays</td><td>1</td></tr>\n",
       "</table>\n",
       "\n",
       "</td><td>\n",
       "<table>\n",
       "<tr><th>Name</th><th>Field</th><th>Type</th><th>N Comp</th><th>Min</th><th>Max</th></tr>\n",
       "<tr><td><b>modelvalues</b></td><td>Cells</td><td><U5</td><td>1</td><td>nan</td><td>nan</td></tr>\n",
       "</table>\n",
       "\n",
       "</td></tr> </table>"
      ],
      "text/plain": [
       "UnstructuredGrid (0x15e262fe460)\n",
       "  N Cells:\t30000\n",
       "  N Points:\t6426\n",
       "  X Bounds:\t3.500e+05, 4.500e+05\n",
       "  Y Bounds:\t7.560e+06, 7.600e+06\n",
       "  Z Bounds:\t-5.000e+03, 0.000e+00\n",
       "  N Arrays:\t1"
      ]
     },
     "execution_count": 61,
     "metadata": {},
     "output_type": "execute_result"
    }
   ],
   "source": [
    "clip"
   ]
  },
  {
   "cell_type": "code",
   "execution_count": 62,
   "metadata": {},
   "outputs": [
    {
     "data": {
      "image/png": "[encoded data removed]",
      "text/plain": [
       "<PIL.Image.Image image mode=RGB size=1024x768 at 0x15E262EA580>"
      ]
     },
     "metadata": {},
     "output_type": "display_data"
    }
   ],
   "source": [
    "clip.plot()"
   ]
  },
  {
   "cell_type": "code",
   "execution_count": 69,
   "metadata": {},
   "outputs": [
    {
     "name": "stderr",
     "output_type": "stream",
     "text": [
      "<ipython-input-66-b4fa04be5c29>:10: VisibleDeprecationWarning: Creating an ndarray from ragged nested sequences (which is a list-or-tuple of lists-or-tuples-or ndarrays with different lengths or shapes) is deprecated. If you meant to do this, you must specify 'dtype=object' when creating the ndarray\n",
      "  data = np.array(data)\n"
     ]
    },
    {
     "data": {
      "text/html": [
       "<table><tr><th>Header</th><th>Data Arrays</th></tr><tr><td>\n",
       "<table>\n",
       "<tr><th>RectilinearGrid</th><th>Information</th></tr>\n",
       "<tr><td>N Cells</td><td>4056939</td></tr>\n",
       "<tr><td>N Points</td><td>4192160</td></tr>\n",
       "<tr><td>X Bounds</td><td>3.400e+04, 8.200e+05</td></tr>\n",
       "<tr><td>Y Bounds</td><td>7.560e+06, 8.118e+06</td></tr>\n",
       "<tr><td>Z Bounds</td><td>-2.500e+04, 3.000e+03</td></tr>\n",
       "<tr><td>Dimensions</td><td>394, 280, 38</td></tr>\n",
       "<tr><td>N Arrays</td><td>1</td></tr>\n",
       "</table>\n",
       "\n",
       "</td><td>\n",
       "<table>\n",
       "<tr><th>Name</th><th>Field</th><th>Type</th><th>N Comp</th><th>Min</th><th>Max</th></tr>\n",
       "<tr><td><b>modelvalues</b></td><td>Cells</td><td><U9</td><td>1</td><td>nan</td><td>nan</td></tr>\n",
       "</table>\n",
       "\n",
       "</td></tr> </table>"
      ],
      "text/plain": [
       "RectilinearGrid (0x15e262feca0)\n",
       "  N Cells:\t4056939\n",
       "  N Points:\t4192160\n",
       "  X Bounds:\t3.400e+04, 8.200e+05\n",
       "  Y Bounds:\t7.560e+06, 8.118e+06\n",
       "  Z Bounds:\t-2.500e+04, 3.000e+03\n",
       "  Dimensions:\t394, 280, 38\n",
       "  N Arrays:\t1"
      ]
     },
     "execution_count": 69,
     "metadata": {},
     "output_type": "execute_result"
    }
   ],
   "source": [
    "dengrid = geomodelSG_to_vtk(r'E:\\3D_Map_of_North_Queensland_2009_3D_Data\\inversions_grav_mag_voxets\\inversions\\SGrids\\3DMap_inversions_const_den@@.pkl')\n",
    "dengrid"
   ]
  },
  {
   "cell_type": "code",
   "execution_count": 70,
   "metadata": {},
   "outputs": [
    {
     "data": {
      "text/html": [
       "<table><tr><th>Header</th><th>Data Arrays</th></tr><tr><td>\n",
       "<table>\n",
       "<tr><th>UnstructuredGrid</th><th>Information</th></tr>\n",
       "<tr><td>N Cells</td><td>30000</td></tr>\n",
       "<tr><td>N Points</td><td>6426</td></tr>\n",
       "<tr><td>X Bounds</td><td>3.500e+05, 4.500e+05</td></tr>\n",
       "<tr><td>Y Bounds</td><td>7.560e+06, 7.600e+06</td></tr>\n",
       "<tr><td>Z Bounds</td><td>-5.000e+03, 0.000e+00</td></tr>\n",
       "<tr><td>N Arrays</td><td>1</td></tr>\n",
       "</table>\n",
       "\n",
       "</td><td>\n",
       "<table>\n",
       "<tr><th>Name</th><th>Field</th><th>Type</th><th>N Comp</th><th>Min</th><th>Max</th></tr>\n",
       "<tr><td><b>modelvalues</b></td><td>Cells</td><td><U9</td><td>1</td><td>nan</td><td>nan</td></tr>\n",
       "</table>\n",
       "\n",
       "</td></tr> </table>"
      ],
      "text/plain": [
       "UnstructuredGrid (0x15e262fe5e0)\n",
       "  N Cells:\t30000\n",
       "  N Points:\t6426\n",
       "  X Bounds:\t3.500e+05, 4.500e+05\n",
       "  Y Bounds:\t7.560e+06, 7.600e+06\n",
       "  Z Bounds:\t-5.000e+03, 0.000e+00\n",
       "  N Arrays:\t1"
      ]
     },
     "execution_count": 70,
     "metadata": {},
     "output_type": "execute_result"
    }
   ],
   "source": [
    "clip = dengrid.clip_box([350000,450000,7500000,7600000,-5000,0],invert=False)\n",
    "clip"
   ]
  },
  {
   "cell_type": "code",
   "execution_count": 71,
   "metadata": {},
   "outputs": [
    {
     "data": {
      "image/png": "[encoded data removed]",
      "text/plain": [
       "<PIL.Image.Image image mode=RGB size=1024x768 at 0x15E5B2E13A0>"
      ]
     },
     "metadata": {},
     "output_type": "display_data"
    }
   ],
   "source": [
    "clip.plot()"
   ]
  },
  {
   "cell_type": "code",
   "execution_count": 72,
   "metadata": {},
   "outputs": [
    {
     "name": "stderr",
     "output_type": "stream",
     "text": [
      "<ipython-input-66-b4fa04be5c29>:10: VisibleDeprecationWarning: Creating an ndarray from ragged nested sequences (which is a list-or-tuple of lists-or-tuples-or ndarrays with different lengths or shapes) is deprecated. If you meant to do this, you must specify 'dtype=object' when creating the ndarray\n",
      "  data = np.array(data)\n"
     ]
    },
    {
     "data": {
      "text/html": [
       "<table><tr><th>Header</th><th>Data Arrays</th></tr><tr><td>\n",
       "<table>\n",
       "<tr><th>RectilinearGrid</th><th>Information</th></tr>\n",
       "<tr><td>N Cells</td><td>4056939</td></tr>\n",
       "<tr><td>N Points</td><td>4192160</td></tr>\n",
       "<tr><td>X Bounds</td><td>3.400e+04, 8.200e+05</td></tr>\n",
       "<tr><td>Y Bounds</td><td>7.560e+06, 8.118e+06</td></tr>\n",
       "<tr><td>Z Bounds</td><td>-2.500e+04, 3.000e+03</td></tr>\n",
       "<tr><td>Dimensions</td><td>394, 280, 38</td></tr>\n",
       "<tr><td>N Arrays</td><td>1</td></tr>\n",
       "</table>\n",
       "\n",
       "</td><td>\n",
       "<table>\n",
       "<tr><th>Name</th><th>Field</th><th>Type</th><th>N Comp</th><th>Min</th><th>Max</th></tr>\n",
       "<tr><td><b>modelvalues</b></td><td>Cells</td><td><U9</td><td>1</td><td>nan</td><td>nan</td></tr>\n",
       "</table>\n",
       "\n",
       "</td></tr> </table>"
      ],
      "text/plain": [
       "RectilinearGrid (0x15e262fea60)\n",
       "  N Cells:\t4056939\n",
       "  N Points:\t4192160\n",
       "  X Bounds:\t3.400e+04, 8.200e+05\n",
       "  Y Bounds:\t7.560e+06, 8.118e+06\n",
       "  Z Bounds:\t-2.500e+04, 3.000e+03\n",
       "  Dimensions:\t394, 280, 38\n",
       "  N Arrays:\t1"
      ]
     },
     "execution_count": 72,
     "metadata": {},
     "output_type": "execute_result"
    }
   ],
   "source": [
    "dengrid2 = geomodelSG_to_vtk(r'E:\\3D_Map_of_North_Queensland_2009_3D_Data\\inversions_grav_mag_voxets\\inversions\\SGrids\\3DMap_inversions_const_reference_den@@.pkl')\n",
    "dengrid2"
   ]
  },
  {
   "cell_type": "code",
   "execution_count": 75,
   "metadata": {},
   "outputs": [
    {
     "data": {
      "text/html": [
       "<table><tr><th>Header</th><th>Data Arrays</th></tr><tr><td>\n",
       "<table>\n",
       "<tr><th>UnstructuredGrid</th><th>Information</th></tr>\n",
       "<tr><td>N Cells</td><td>30000</td></tr>\n",
       "<tr><td>N Points</td><td>6426</td></tr>\n",
       "<tr><td>X Bounds</td><td>3.500e+05, 4.500e+05</td></tr>\n",
       "<tr><td>Y Bounds</td><td>7.560e+06, 7.600e+06</td></tr>\n",
       "<tr><td>Z Bounds</td><td>-5.000e+03, 0.000e+00</td></tr>\n",
       "<tr><td>N Arrays</td><td>1</td></tr>\n",
       "</table>\n",
       "\n",
       "</td><td>\n",
       "<table>\n",
       "<tr><th>Name</th><th>Field</th><th>Type</th><th>N Comp</th><th>Min</th><th>Max</th></tr>\n",
       "<tr><td><b>modelvalues</b></td><td>Cells</td><td><U5</td><td>1</td><td>nan</td><td>nan</td></tr>\n",
       "</table>\n",
       "\n",
       "</td></tr> </table>"
      ],
      "text/plain": [
       "UnstructuredGrid (0x15e2f9aebe0)\n",
       "  N Cells:\t30000\n",
       "  N Points:\t6426\n",
       "  X Bounds:\t3.500e+05, 4.500e+05\n",
       "  Y Bounds:\t7.560e+06, 7.600e+06\n",
       "  Z Bounds:\t-5.000e+03, 0.000e+00\n",
       "  N Arrays:\t1"
      ]
     },
     "execution_count": 75,
     "metadata": {},
     "output_type": "execute_result"
    }
   ],
   "source": [
    "clip = dengrid2.clip_box([350000,450000,7500000,7600000,-5000,0],invert=False)\n",
    "clip"
   ]
  },
  {
   "cell_type": "code",
   "execution_count": 76,
   "metadata": {},
   "outputs": [
    {
     "data": {
      "image/png": "[encoded data removed]",
      "text/plain": [
       "<PIL.Image.Image image mode=RGB size=1024x768 at 0x15E2D2488B0>"
      ]
     },
     "metadata": {},
     "output_type": "display_data"
    }
   ],
   "source": [
    "clip.plot()"
   ]
  },
  {
   "cell_type": "code",
   "execution_count": 77,
   "metadata": {},
   "outputs": [
    {
     "name": "stderr",
     "output_type": "stream",
     "text": [
      "<ipython-input-66-b4fa04be5c29>:10: VisibleDeprecationWarning: Creating an ndarray from ragged nested sequences (which is a list-or-tuple of lists-or-tuples-or ndarrays with different lengths or shapes) is deprecated. If you meant to do this, you must specify 'dtype=object' when creating the ndarray\n",
      "  data = np.array(data)\n"
     ]
    },
    {
     "data": {
      "text/html": [
       "<table><tr><th>Header</th><th>Data Arrays</th></tr><tr><td>\n",
       "<table>\n",
       "<tr><th>RectilinearGrid</th><th>Information</th></tr>\n",
       "<tr><td>N Cells</td><td>4056939</td></tr>\n",
       "<tr><td>N Points</td><td>4192160</td></tr>\n",
       "<tr><td>X Bounds</td><td>3.400e+04, 8.200e+05</td></tr>\n",
       "<tr><td>Y Bounds</td><td>7.560e+06, 8.118e+06</td></tr>\n",
       "<tr><td>Z Bounds</td><td>-2.500e+04, 3.000e+03</td></tr>\n",
       "<tr><td>Dimensions</td><td>394, 280, 38</td></tr>\n",
       "<tr><td>N Arrays</td><td>1</td></tr>\n",
       "</table>\n",
       "\n",
       "</td><td>\n",
       "<table>\n",
       "<tr><th>Name</th><th>Field</th><th>Type</th><th>N Comp</th><th>Min</th><th>Max</th></tr>\n",
       "<tr><td><b>modelvalues</b></td><td>Cells</td><td><U11</td><td>1</td><td>nan</td><td>nan</td></tr>\n",
       "</table>\n",
       "\n",
       "</td></tr> </table>"
      ],
      "text/plain": [
       "RectilinearGrid (0x15e07aa7ee0)\n",
       "  N Cells:\t4056939\n",
       "  N Points:\t4192160\n",
       "  X Bounds:\t3.400e+04, 8.200e+05\n",
       "  Y Bounds:\t7.560e+06, 8.118e+06\n",
       "  Z Bounds:\t-2.500e+04, 3.000e+03\n",
       "  Dimensions:\t394, 280, 38\n",
       "  N Arrays:\t1"
      ]
     },
     "execution_count": 77,
     "metadata": {},
     "output_type": "execute_result"
    }
   ],
   "source": [
    "maggrid2 = geomodelSG_to_vtk(r'E:\\3D_Map_of_North_Queensland_2009_3D_Data\\inversions_grav_mag_voxets\\inversions\\SGrids\\3DMap_inversions_const_reference_sus@@.pkl')\n",
    "maggrid2"
   ]
  },
  {
   "cell_type": "code",
   "execution_count": 78,
   "metadata": {},
   "outputs": [
    {
     "data": {
      "image/png": "[encoded data removed]",
      "text/plain": [
       "<PIL.Image.Image image mode=RGB size=1024x768 at 0x15E262EA6D0>"
      ]
     },
     "metadata": {},
     "output_type": "display_data"
    }
   ],
   "source": [
    "clip = maggrid2.clip_box([350000,450000,7500000,7600000,-5000,0],invert=False)\n",
    "clip\n",
    "clip.plot()"
   ]
  },
  {
   "cell_type": "code",
   "execution_count": 80,
   "metadata": {},
   "outputs": [
    {
     "name": "stderr",
     "output_type": "stream",
     "text": [
      "<ipython-input-66-b4fa04be5c29>:10: VisibleDeprecationWarning: Creating an ndarray from ragged nested sequences (which is a list-or-tuple of lists-or-tuples-or ndarrays with different lengths or shapes) is deprecated. If you meant to do this, you must specify 'dtype=object' when creating the ndarray\n",
      "  data = np.array(data)\n"
     ]
    },
    {
     "data": {
      "text/html": [
       "<table><tr><th>Header</th><th>Data Arrays</th></tr><tr><td>\n",
       "<table>\n",
       "<tr><th>RectilinearGrid</th><th>Information</th></tr>\n",
       "<tr><td>N Cells</td><td>4056939</td></tr>\n",
       "<tr><td>N Points</td><td>4192160</td></tr>\n",
       "<tr><td>X Bounds</td><td>3.400e+04, 8.200e+05</td></tr>\n",
       "<tr><td>Y Bounds</td><td>7.560e+06, 8.118e+06</td></tr>\n",
       "<tr><td>Z Bounds</td><td>-2.500e+04, 3.000e+03</td></tr>\n",
       "<tr><td>Dimensions</td><td>394, 280, 38</td></tr>\n",
       "<tr><td>N Arrays</td><td>1</td></tr>\n",
       "</table>\n",
       "\n",
       "</td><td>\n",
       "<table>\n",
       "<tr><th>Name</th><th>Field</th><th>Type</th><th>N Comp</th><th>Min</th><th>Max</th></tr>\n",
       "<tr><td><b>modelvalues</b></td><td>Cells</td><td><U11</td><td>1</td><td>nan</td><td>nan</td></tr>\n",
       "</table>\n",
       "\n",
       "</td></tr> </table>"
      ],
      "text/plain": [
       "RectilinearGrid (0x15e2f9aea00)\n",
       "  N Cells:\t4056939\n",
       "  N Points:\t4192160\n",
       "  X Bounds:\t3.400e+04, 8.200e+05\n",
       "  Y Bounds:\t7.560e+06, 8.118e+06\n",
       "  Z Bounds:\t-2.500e+04, 3.000e+03\n",
       "  Dimensions:\t394, 280, 38\n",
       "  N Arrays:\t1"
      ]
     },
     "execution_count": 80,
     "metadata": {},
     "output_type": "execute_result"
    }
   ],
   "source": [
    "maggrid = geomodelSG_to_vtk(r'E:\\3D_Map_of_North_Queensland_2009_3D_Data\\inversions_grav_mag_voxets\\inversions\\SGrids\\3DMap_inversions_const_sus@@.pkl')\n",
    "maggrid\n"
   ]
  },
  {
   "cell_type": "code",
   "execution_count": 81,
   "metadata": {},
   "outputs": [
    {
     "data": {
      "image/png": "[encoded data removed]",
      "text/plain": [
       "<PIL.Image.Image image mode=RGB size=1024x768 at 0x15E09E42460>"
      ]
     },
     "metadata": {},
     "output_type": "display_data"
    }
   ],
   "source": [
    "clip = maggrid.clip_box([350000,450000,7500000,7600000,-5000,0],invert=False)\n",
    "clip\n",
    "clip.plot()"
   ]
  },
  {
   "cell_type": "code",
   "execution_count": null,
   "metadata": {},
   "outputs": [],
   "source": [
    "maggrid.plot()"
   ]
  },
  {
   "cell_type": "code",
   "execution_count": null,
   "metadata": {},
   "outputs": [],
   "source": []
  }
 ],
 "metadata": {
  "kernelspec": {
   "display_name": "Python [conda env:pyvistabackground]",
   "language": "python",
   "name": "conda-env-pyvistabackground-py"
  },
  "language_info": {
   "codemirror_mode": {
    "name": "ipython",
    "version": 3
   },
   "file_extension": ".py",
   "mimetype": "text/x-python",
   "name": "python",
   "nbconvert_exporter": "python",
   "pygments_lexer": "ipython3",
   "version": "3.8.5"
  }
 },
 "nbformat": 4,
 "nbformat_minor": 4
}
